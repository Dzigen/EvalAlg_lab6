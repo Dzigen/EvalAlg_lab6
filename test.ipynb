{
 "cells": [
  {
   "cell_type": "code",
   "execution_count": 1,
   "metadata": {},
   "outputs": [],
   "source": [
    "from src.models.single_thread import SingleThreadModel\n",
    "from src.models.island_based import IslandBasedModel\n",
    "\n",
    "import numpy as np\n",
    "import matplotlib.pyplot as plt\n",
    "import time\n",
    "import gc\n",
    "\n",
    "TRIALS = 3\n",
    "\n",
    "CONFIG = [[200, 600, [5]], [300, 600, [5]], [100, 300, [5]], [100, 900, [5]]]\n",
    "CONFIG2 = [[100, 600, [0,1,2,3,4,5]]]"
   ]
  },
  {
   "cell_type": "code",
   "execution_count": 9,
   "metadata": {},
   "outputs": [
    {
     "name": "stdout",
     "output_type": "stream",
     "text": [
      "complexity : 5; dim: 200; pop_size: 600\n"
     ]
    },
    {
     "name": "stderr",
     "output_type": "stream",
     "text": [
      "100%|██████████| 10/10 [06:57<00:00, 41.78s/it, best-ff=7.92]\n",
      "100%|██████████| 10/10 [06:51<00:00, 41.17s/it, best-ff=7.93]\n",
      "100%|██████████| 10/10 [06:54<00:00, 41.49s/it, best-ff=7.92]\n"
     ]
    },
    {
     "name": "stdout",
     "output_type": "stream",
     "text": [
      "fitness: 7.9232668512884485 | elapsed_t: 417.3523333333333\n",
      "complexity : 5; dim: 300; pop_size: 600\n"
     ]
    },
    {
     "name": "stderr",
     "output_type": "stream",
     "text": [
      "100%|██████████| 10/10 [10:07<00:00, 60.71s/it, best-ff=7.78]\n",
      "100%|██████████| 10/10 [10:13<00:00, 61.32s/it, best-ff=7.84]\n",
      "100%|██████████| 10/10 [10:19<00:00, 61.91s/it, best-ff=7.82]\n"
     ]
    },
    {
     "name": "stdout",
     "output_type": "stream",
     "text": [
      "fitness: 7.814938490579728 | elapsed_t: 616.0163333333334\n",
      "complexity : 5; dim: 100; pop_size: 300\n"
     ]
    },
    {
     "name": "stderr",
     "output_type": "stream",
     "text": [
      "100%|██████████| 10/10 [02:24<00:00, 14.45s/it, best-ff=8.1]\n",
      "100%|██████████| 10/10 [02:27<00:00, 14.74s/it, best-ff=8.07]\n",
      "100%|██████████| 10/10 [02:24<00:00, 14.44s/it, best-ff=8.06]\n"
     ]
    },
    {
     "name": "stdout",
     "output_type": "stream",
     "text": [
      "fitness: 8.078222882820656 | elapsed_t: 148.40833333333333\n",
      "complexity : 5; dim: 100; pop_size: 900\n"
     ]
    },
    {
     "name": "stderr",
     "output_type": "stream",
     "text": [
      "100%|██████████| 10/10 [05:00<00:00, 30.08s/it, best-ff=8.09]\n",
      "100%|██████████| 10/10 [05:00<00:00, 30.07s/it, best-ff=8.12]\n",
      "100%|██████████| 10/10 [05:00<00:00, 30.08s/it, best-ff=8.21]\n"
     ]
    },
    {
     "name": "stdout",
     "output_type": "stream",
     "text": [
      "fitness: 8.139912559274967 | elapsed_t: 303.67266666666666\n"
     ]
    }
   ],
   "source": [
    "for item in CONFIG:\n",
    "    dim, pop_size, complexities = item\n",
    "\n",
    "    ib_model = IslandBasedModel(dim, pop_size, 80, 0.2, 0.05, 2.0, 0.3, 0.9, 1, 1)\n",
    "\n",
    "    for complx in complexities:\n",
    "        print(f\"complexity : {complx}; dim: {dim}; pop_size: {pop_size}\")\n",
    "        ts, fs = [], []\n",
    "        for _ in range(TRIALS):\n",
    "            start_t = time.time()\n",
    "            best_fitnesses, _ = ib_model.run(10, 200, ff_age_limit=200, complexity=complx, verbose=True)\n",
    "            end_t = time.time()\n",
    "\n",
    "            gc.collect()\n",
    "            elapsed_t = round(end_t - start_t, 3) \n",
    "            ts.append(elapsed_t)\n",
    "            fs.append(best_fitnesses[-1])\n",
    "\n",
    "        print(f\"fitness: {np.mean(fs)} | elapsed_t: {np.mean(ts)}\")"
   ]
  },
  {
   "cell_type": "code",
   "execution_count": 10,
   "metadata": {},
   "outputs": [
    {
     "name": "stdout",
     "output_type": "stream",
     "text": [
      "complexity : 5; dim: 200; pop_size: 600\n"
     ]
    },
    {
     "name": "stderr",
     "output_type": "stream",
     "text": [
      " 58%|█████▊    | 1169/2000 [09:31<06:46,  2.04it/s, best-ff=7.99]\n",
      " 58%|█████▊    | 1160/2000 [09:29<06:52,  2.04it/s, best-ff=7.93]\n",
      " 75%|███████▍  | 1496/2000 [12:13<04:07,  2.04it/s, best-ff=8.01]\n"
     ]
    },
    {
     "name": "stdout",
     "output_type": "stream",
     "text": [
      "fitness: 7.976444180159208 | elapsed_t: 637.0613333333334\n",
      "complexity : 5; dim: 300; pop_size: 600\n"
     ]
    },
    {
     "name": "stderr",
     "output_type": "stream",
     "text": [
      " 61%|██████    | 1224/2000 [15:12<09:38,  1.34it/s, best-ff=7.77]\n",
      " 63%|██████▎   | 1252/2000 [15:38<09:20,  1.33it/s, best-ff=7.8] \n",
      " 69%|██████▊   | 1374/2000 [17:16<07:52,  1.33it/s, best-ff=7.84]\n"
     ]
    },
    {
     "name": "stdout",
     "output_type": "stream",
     "text": [
      "fitness: 7.801779909391112 | elapsed_t: 980.007\n",
      "complexity : 5; dim: 100; pop_size: 300\n"
     ]
    },
    {
     "name": "stderr",
     "output_type": "stream",
     "text": [
      " 45%|████▌     | 901/2000 [02:02<02:29,  7.34it/s, best-ff=8.12]\n",
      " 43%|████▎     | 862/2000 [01:57<02:34,  7.34it/s, best-ff=8.2] \n",
      " 36%|███▌      | 717/2000 [01:37<02:53,  7.38it/s, best-ff=8.08]\n"
     ]
    },
    {
     "name": "stdout",
     "output_type": "stream",
     "text": [
      "fitness: 8.134873127516173 | elapsed_t: 114.28500000000001\n",
      "complexity : 5; dim: 100; pop_size: 900\n"
     ]
    },
    {
     "name": "stderr",
     "output_type": "stream",
     "text": [
      " 68%|██████▊   | 1370/2000 [08:21<03:50,  2.73it/s, best-ff=8.21]\n",
      " 46%|████▌     | 921/2000 [05:36<06:34,  2.73it/s, best-ff=8.13]\n",
      " 48%|████▊     | 950/2000 [05:47<06:23,  2.74it/s, best-ff=8.13]"
     ]
    },
    {
     "name": "stdout",
     "output_type": "stream",
     "text": [
      "fitness: 8.157656284004135 | elapsed_t: 412.13100000000003\n"
     ]
    },
    {
     "name": "stderr",
     "output_type": "stream",
     "text": [
      "\n"
     ]
    }
   ],
   "source": [
    "for item in CONFIG:\n",
    "    dim, pop_size, complexities = item\n",
    "\n",
    "    st_model = SingleThreadModel(dim, pop_size, 80, 0.2, 0.05, 2.0, 0.3, 0.9, 1, 1)\n",
    "\n",
    "    for complx in complexities:\n",
    "        print(f\"complexity : {complx}; dim: {dim}; pop_size: {pop_size}\")\n",
    "        ts, fs = [], []\n",
    "        for _ in range(TRIALS):\n",
    "            start_t = time.time()\n",
    "            best_fitnesses, _, _ = st_model.run(2000, complexity=complx, ff_age_limit=200, verbose=True)\n",
    "            end_t = time.time()\n",
    "\n",
    "            gc.collect()\n",
    "            elapsed_t = round(end_t - start_t, 3) \n",
    "            ts.append(elapsed_t)\n",
    "            fs.append(best_fitnesses[-1])\n",
    "\n",
    "        print(f\"fitness: {np.mean(fs)} | elapsed_t: {np.mean(ts)}\")"
   ]
  },
  {
   "cell_type": "code",
   "execution_count": 11,
   "metadata": {},
   "outputs": [
    {
     "name": "stdout",
     "output_type": "stream",
     "text": [
      "complexity : 5; dim: 200; pop_size: 600\n"
     ]
    },
    {
     "name": "stderr",
     "output_type": "stream",
     "text": [
      " 60%|██████    | 1208/2000 [07:58<05:13,  2.53it/s, best-ff=7.97]\n",
      " 67%|██████▋   | 1347/2000 [08:51<04:17,  2.54it/s, best-ff=7.95]\n",
      " 36%|███▌      | 722/2000 [04:43<08:21,  2.55it/s, best-ff=7.89]\n"
     ]
    },
    {
     "name": "stdout",
     "output_type": "stream",
     "text": [
      "fitness: 7.932476487753959 | elapsed_t: 443.958\n",
      "complexity : 5; dim: 300; pop_size: 600\n"
     ]
    },
    {
     "name": "stderr",
     "output_type": "stream",
     "text": [
      " 82%|████████▏ | 1649/2000 [13:21<02:50,  2.06it/s, best-ff=7.87]\n",
      " 83%|████████▎ | 1660/2000 [13:42<02:48,  2.02it/s, best-ff=7.83]\n",
      " 83%|████████▎ | 1656/2000 [13:33<02:49,  2.04it/s, best-ff=7.84]\n"
     ]
    },
    {
     "name": "stdout",
     "output_type": "stream",
     "text": [
      "fitness: 7.847392542004353 | elapsed_t: 829.8903333333334\n",
      "complexity : 5; dim: 100; pop_size: 300\n"
     ]
    },
    {
     "name": "stderr",
     "output_type": "stream",
     "text": [
      " 35%|███▌      | 708/2000 [02:28<04:30,  4.77it/s, best-ff=8.1] \n",
      " 31%|███       | 620/2000 [02:08<04:45,  4.84it/s, best-ff=8.12]\n",
      " 37%|███▋      | 746/2000 [02:34<04:19,  4.83it/s, best-ff=8.13]\n"
     ]
    },
    {
     "name": "stdout",
     "output_type": "stream",
     "text": [
      "fitness: 8.114438064826809 | elapsed_t: 145.417\n",
      "complexity : 5; dim: 100; pop_size: 900\n"
     ]
    },
    {
     "name": "stderr",
     "output_type": "stream",
     "text": [
      " 54%|█████▍    | 1075/2000 [07:57<06:51,  2.25it/s, best-ff=8.2]\n",
      " 47%|████▋     | 933/2000 [07:08<08:09,  2.18it/s, best-ff=8.11]\n",
      " 57%|█████▋    | 1137/2000 [08:46<06:39,  2.16it/s, best-ff=8.17]"
     ]
    },
    {
     "name": "stdout",
     "output_type": "stream",
     "text": [
      "fitness: 8.15865545450727 | elapsed_t: 494.86733333333336\n"
     ]
    },
    {
     "name": "stderr",
     "output_type": "stream",
     "text": [
      "\n"
     ]
    }
   ],
   "source": [
    "for item in CONFIG:\n",
    "    dim, pop_size, complexities = item\n",
    "\n",
    "    ms_model = SingleThreadModel(dim, pop_size, 80, 0.2, 0.05, 2.0, 0.3, 0.9, 1, 1)\n",
    "\n",
    "    for complx in complexities:\n",
    "        print(f\"complexity : {complx}; dim: {dim}; pop_size: {pop_size}\")\n",
    "        ts, fs = [], []\n",
    "        for _ in range(TRIALS):\n",
    "            start_t = time.time()\n",
    "            best_fitnesses, _, _ = ms_model.run(2000, complexity=complx, enable_ms_model=True, ff_age_limit=200, verbose=True)\n",
    "            end_t = time.time()\n",
    "\n",
    "            gc.collect()\n",
    "            elapsed_t = round(end_t - start_t, 3) \n",
    "            ts.append(elapsed_t)\n",
    "            fs.append(best_fitnesses[-1])\n",
    "\n",
    "        print(f\"fitness: {np.mean(fs)} | elapsed_t: {np.mean(ts)}\")"
   ]
  },
  {
   "cell_type": "code",
   "execution_count": 23,
   "metadata": {},
   "outputs": [
    {
     "data": {
      "text/plain": [
       "0.03000000000000025"
      ]
     },
     "execution_count": 23,
     "metadata": {},
     "output_type": "execute_result"
    }
   ],
   "source": [
    "(np.abs(8.07 - 8.09) + np.abs(8.09 - 8.13)) / 2"
   ]
  },
  {
   "cell_type": "code",
   "execution_count": null,
   "metadata": {},
   "outputs": [],
   "source": []
  }
 ],
 "metadata": {
  "kernelspec": {
   "display_name": "base",
   "language": "python",
   "name": "python3"
  },
  "language_info": {
   "codemirror_mode": {
    "name": "ipython",
    "version": 3
   },
   "file_extension": ".py",
   "mimetype": "text/x-python",
   "name": "python",
   "nbconvert_exporter": "python",
   "pygments_lexer": "ipython3",
   "version": "3.11.4"
  }
 },
 "nbformat": 4,
 "nbformat_minor": 2
}
